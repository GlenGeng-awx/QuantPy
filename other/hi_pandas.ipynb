{
 "cells": [
  {
   "cell_type": "code",
   "id": "initial_id",
   "metadata": {
    "collapsed": true
   },
   "source": [
    "import numpy as np\n",
    "import pandas as pd"
   ],
   "outputs": [],
   "execution_count": null
  },
  {
   "metadata": {},
   "cell_type": "code",
   "source": [
    "s = pd.Series([1, 3, 5, np.nan, 6, 8])\n",
    "s"
   ],
   "id": "45e7e60904789ec1",
   "outputs": [],
   "execution_count": null
  },
  {
   "metadata": {},
   "cell_type": "code",
   "source": [
    "dates = pd.date_range(\"20130101\", periods=6)\n",
    "dates"
   ],
   "id": "94b0317cef60686a",
   "outputs": [],
   "execution_count": null
  },
  {
   "metadata": {},
   "cell_type": "code",
   "source": [
    "df = pd.DataFrame(np.random.randn(6, 4), index=dates, columns=list(\"ABCD\"))\n",
    "df"
   ],
   "id": "1a32fb90adc9e73",
   "outputs": [],
   "execution_count": null
  },
  {
   "metadata": {},
   "cell_type": "code",
   "source": "df.index",
   "id": "7dbea411923447b7",
   "outputs": [],
   "execution_count": null
  },
  {
   "metadata": {},
   "cell_type": "code",
   "source": "df.columns",
   "id": "78295747bbc2f5a9",
   "outputs": [],
   "execution_count": null
  },
  {
   "metadata": {},
   "cell_type": "code",
   "source": "df.sort_index(axis=1, ascending=False)",
   "id": "1d10894ec5b36cd0",
   "outputs": [],
   "execution_count": null
  },
  {
   "metadata": {},
   "cell_type": "code",
   "source": "df.sort_values(by=\"B\")",
   "id": "3e97bea95ec9bd44",
   "outputs": [],
   "execution_count": null
  },
  {
   "metadata": {},
   "cell_type": "code",
   "source": "df[\"A\"]",
   "id": "1da3c11901a31b79",
   "outputs": [],
   "execution_count": null
  },
  {
   "metadata": {},
   "cell_type": "code",
   "source": "df[0:3]",
   "id": "e154b57440e887f7",
   "outputs": [],
   "execution_count": null
  },
  {
   "metadata": {},
   "cell_type": "code",
   "source": "df[\"20130102\":\"20130104\"]",
   "id": "15b12867ba6bb66b",
   "outputs": [],
   "execution_count": null
  },
  {
   "metadata": {},
   "cell_type": "code",
   "source": [
    "# df.loc[dates[0]]\n",
    "# df.loc[['a', 'b']]['one']\n",
    "df"
   ],
   "id": "7285cc994196e709",
   "outputs": [],
   "execution_count": null
  },
  {
   "metadata": {},
   "cell_type": "code",
   "source": "df.loc[dates[0], \"A\"]",
   "id": "8d625decfea79d1c",
   "outputs": [],
   "execution_count": null
  },
  {
   "metadata": {},
   "cell_type": "code",
   "source": "df.iloc[[1, 2, 4], [0, 2]]",
   "id": "8e34cb7b196922b3",
   "outputs": [],
   "execution_count": null
  },
  {
   "metadata": {},
   "cell_type": "code",
   "source": [
    "# given position, return index of the row\n",
    "df.index[3]"
   ],
   "id": "ffdd575ef89b33c",
   "outputs": [],
   "execution_count": null
  },
  {
   "metadata": {},
   "cell_type": "code",
   "source": [
    "# given row, return index of the row\n",
    "row = df.iloc[3]\n",
    "row.name"
   ],
   "id": "10eadd57627019e9",
   "outputs": [],
   "execution_count": null
  },
  {
   "metadata": {},
   "cell_type": "code",
   "source": [
    "# [from, to)\n",
    "df.iloc[1:3]"
   ],
   "id": "93f2e878ca875f09",
   "outputs": [],
   "execution_count": null
  },
  {
   "metadata": {},
   "cell_type": "code",
   "source": "df[df[\"A\"] > 0]",
   "id": "960b7f1b94fe0c7e",
   "outputs": [],
   "execution_count": null
  },
  {
   "metadata": {},
   "cell_type": "code",
   "source": [
    "s1 = pd.Series([1, 2, 3, 4, 5, 6], index=pd.date_range(\"20130102\", periods=6))\n",
    "s1"
   ],
   "id": "5fffd5dc867167f3",
   "outputs": [],
   "execution_count": null
  },
  {
   "metadata": {},
   "cell_type": "code",
   "source": [
    "s = pd.Series([\"A\", \"B\", \"C\", \"Aaba\", \"Baca\", np.nan, \"CABA\", \"dog\", \"cat\"])\n",
    "s.str.lower()"
   ],
   "id": "a536bca8ac61c1bb",
   "outputs": [],
   "execution_count": null
  },
  {
   "metadata": {},
   "cell_type": "code",
   "source": [
    "df[\"F\"] = s1\n",
    "df"
   ],
   "id": "f4f85a28a0df2f8a",
   "outputs": [],
   "execution_count": null
  },
  {
   "metadata": {},
   "cell_type": "code",
   "source": [
    "s = pd.Series(range(5))\n",
    "s"
   ],
   "id": "3fccc86c2e2d5a3",
   "outputs": [],
   "execution_count": null
  },
  {
   "metadata": {},
   "cell_type": "code",
   "source": "s.rolling(window=2).sum()",
   "id": "20f5ef49fe27ae32",
   "outputs": [],
   "execution_count": null
  },
  {
   "metadata": {},
   "cell_type": "code",
   "source": [
    "for window in s.rolling(window=2):\n",
    "    print(window)"
   ],
   "id": "d6e606357d8c3549",
   "outputs": [],
   "execution_count": null
  },
  {
   "metadata": {},
   "cell_type": "code",
   "source": "s.rolling(window=2).std()",
   "id": "2a26999ef4052bbe",
   "outputs": [],
   "execution_count": null
  },
  {
   "metadata": {},
   "cell_type": "code",
   "source": [
    "s = pd.Series(np.random.randn(5), index=[\"a\", \"b\", \"c\", \"d\", \"e\"])\n",
    "s"
   ],
   "id": "5877ebb19ca64587",
   "outputs": [],
   "execution_count": null
  },
  {
   "metadata": {},
   "cell_type": "code",
   "source": "s.index",
   "id": "e7b9d8a7bc2a344f",
   "outputs": [],
   "execution_count": null
  },
  {
   "metadata": {},
   "cell_type": "code",
   "source": "pd.Series(np.random.randn(5))",
   "id": "d1810815d928817c",
   "outputs": [],
   "execution_count": null
  },
  {
   "metadata": {},
   "cell_type": "code",
   "source": "s + s",
   "id": "c5de5d258c5125ed",
   "outputs": [],
   "execution_count": null
  },
  {
   "metadata": {},
   "cell_type": "code",
   "source": "s * 2",
   "id": "3caa68331d4d074b",
   "outputs": [],
   "execution_count": null
  },
  {
   "metadata": {},
   "cell_type": "code",
   "source": [
    "s1 = pd.Series(np.random.randn(5), index=[1, 2, 3, 4, 5])\n",
    "s2 = pd.Series(np.random.randn(4), index=[2, 3, 4, 5])\n",
    "s1 - s2"
   ],
   "id": "144f001f98eff3e8",
   "outputs": [],
   "execution_count": null
  },
  {
   "metadata": {},
   "cell_type": "code",
   "source": [
    "s = pd.Series(np.random.randn(5), name=\"something\")\n",
    "s"
   ],
   "id": "d88fdb7701d0b7e3",
   "outputs": [],
   "execution_count": null
  },
  {
   "metadata": {},
   "cell_type": "code",
   "source": "s.name",
   "id": "1623ea855af88729",
   "outputs": [],
   "execution_count": null
  },
  {
   "metadata": {},
   "cell_type": "code",
   "source": [
    "d = {\n",
    "    \"one\": pd.Series([1.0, 2.0, 3.0], index=[\"a\", \"b\", \"c\"]),\n",
    "    \"two\": pd.Series([1.0, 2.0, 3.0, 4.0], index=[\"a\", \"b\", \"c\", \"d\"]),\n",
    "}\n",
    "df = pd.DataFrame(d)\n",
    "df"
   ],
   "id": "84be0254dc14927b",
   "outputs": [],
   "execution_count": null
  },
  {
   "metadata": {},
   "cell_type": "code",
   "source": [
    "d = {\"one\": [1.0, 2.0, 3.0, 4.0], \"two\": [4.0, 3.0, 2.0, 1.0]}\n",
    "pd.DataFrame(d)"
   ],
   "id": "da08140980319720",
   "outputs": [],
   "execution_count": null
  },
  {
   "metadata": {},
   "cell_type": "code",
   "source": [
    "s = pd.Series(np.random.randn(5), index=[5,7,8,9,10])\n",
    "\n",
    "for idx, value in s.items():\n",
    "    print(f\"index: {idx}, value: {value}\")\n",
    "\n",
    "for pos, value in enumerate(s):\n",
    "    print(f\"pos: {pos}, value: {value}\")\n",
    "\n",
    "print(s.loc[10])\n",
    "\n",
    "print(s.iloc[2])"
   ],
   "id": "9a27064680fa826b",
   "outputs": [],
   "execution_count": null
  },
  {
   "metadata": {},
   "cell_type": "code",
   "source": "s > 0",
   "id": "a6779cca1c2dbecd",
   "outputs": [],
   "execution_count": null
  },
  {
   "metadata": {},
   "cell_type": "code",
   "source": "s[s > 0]",
   "id": "61da91303d45ad85",
   "outputs": [],
   "execution_count": null
  },
  {
   "metadata": {},
   "cell_type": "code",
   "source": [
    "s = pd.Series([1, -2, 3, -4, 5], index=[\"a\", \"b\", \"c\", \"d\", \"e\"])\n",
    "\n",
    "print(s.diff())\n",
    "\n",
    "print(s.where(s < 0, -9))\n",
    "\n",
    "print(-s)\n",
    "\n",
    "s.tolist()"
   ],
   "id": "f6bfa4f6173ae948",
   "outputs": [],
   "execution_count": null
  },
  {
   "metadata": {},
   "cell_type": "code",
   "source": [
    "import pandas as pd\n",
    "\n",
    "# Example DataFrame\n",
    "data = {\n",
    "    'A': [1, 2, 3, 4],\n",
    "    'B': [5, 6, 7, 8],\n",
    "    'C': [9, 10, 11, 12]\n",
    "}\n",
    "df = pd.DataFrame(data)\n",
    "\n",
    "# List of indices to keep\n",
    "indices_to_keep = [0, 2]\n",
    "\n",
    "# Drop the specified column\n",
    "column_to_drop = 'B'\n",
    "df = df.drop(columns=[column_to_drop])\n",
    "\n",
    "# Filter the DataFrame to keep only the specified indices\n",
    "df = df.loc[indices_to_keep]\n",
    "\n",
    "print(df)"
   ],
   "id": "a7745f4c35dd9f06",
   "outputs": [],
   "execution_count": null
  },
  {
   "metadata": {},
   "cell_type": "code",
   "source": [
    "df = pd.DataFrame({\n",
    "    'a': pd.Series(range(100), index=range(100)),\n",
    "})\n",
    "\n",
    "df = df[df['a'] % 2 == 0]\n",
    "df.index"
   ],
   "id": "d05678c59678741d",
   "outputs": [],
   "execution_count": null
  },
  {
   "metadata": {},
   "cell_type": "code",
   "source": [
    "s = pd.Series(range(1, 100), index=range(1, 100))\n",
    "\n",
    "(s.diff().dropna() > 0).all()"
   ],
   "id": "6b93d3b955acef9a",
   "outputs": [],
   "execution_count": null
  },
  {
   "metadata": {},
   "cell_type": "code",
   "source": "",
   "id": "5616af965bfbdf98",
   "outputs": [],
   "execution_count": null
  }
 ],
 "metadata": {
  "kernelspec": {
   "display_name": "Python 3",
   "language": "python",
   "name": "python3"
  },
  "language_info": {
   "codemirror_mode": {
    "name": "ipython",
    "version": 2
   },
   "file_extension": ".py",
   "mimetype": "text/x-python",
   "name": "python",
   "nbconvert_exporter": "python",
   "pygments_lexer": "ipython2",
   "version": "2.7.6"
  }
 },
 "nbformat": 4,
 "nbformat_minor": 5
}
