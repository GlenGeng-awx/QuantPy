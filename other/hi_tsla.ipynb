{
 "cells": [
  {
   "cell_type": "code",
   "execution_count": null,
   "outputs": [],
   "source": [
    "import yfinance as yf\n",
    "import pandas as pd\n",
    "\n",
    "from plotly.subplots import make_subplots\n",
    "import plotly.graph_objects as go\n",
    "import plotly.express as px\n",
    "import plotly.io as pio\n",
    "\n",
    "pio.templates.default = \"plotly_dark\"\n",
    "%config InlineBackend.figure_format = 'retina'"
   ],
   "metadata": {
    "collapsed": false
   },
   "id": "25b29326d53e2a2b"
  },
  {
   "cell_type": "code",
   "execution_count": null,
   "outputs": [],
   "source": [
    "# Target stock & columns for modeling\n",
    "SYMBOL = \"TSLA\"\n",
    "columns = ['open', 'high', 'low', 'close', 'volume']\n",
    "\n",
    "# Getting Tesla (TSLA) stock data\n",
    "ticker = yf.Ticker(SYMBOL)\n",
    "\n",
    "# End stock dates\n",
    "end_date = \"2024-05-31\"\n",
    "\n",
    "# Pulling stock data \n",
    "df = ticker.history(start=\"2022-01-01\", end=end_date)\n",
    "df.columns = df.columns.str.lower()\n",
    "\n",
    "df.tail()"
   ],
   "metadata": {
    "collapsed": false
   },
   "id": "e2c718d5373e624"
  },
  {
   "cell_type": "code",
   "execution_count": null,
   "outputs": [],
   "source": [],
   "metadata": {
    "collapsed": false
   },
   "id": "4354cc10740e26d3"
  }
 ],
 "metadata": {
  "kernelspec": {
   "display_name": "Python 3",
   "language": "python",
   "name": "python3"
  },
  "language_info": {
   "codemirror_mode": {
    "name": "ipython",
    "version": 2
   },
   "file_extension": ".py",
   "mimetype": "text/x-python",
   "name": "python",
   "nbconvert_exporter": "python",
   "pygments_lexer": "ipython2",
   "version": "2.7.6"
  }
 },
 "nbformat": 4,
 "nbformat_minor": 5
}
